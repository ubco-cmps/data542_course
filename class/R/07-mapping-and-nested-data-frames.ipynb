{
 "cells": [
  {
   "cell_type": "markdown",
   "metadata": {
    "slideshow": {
     "slide_type": "slide"
    }
   },
   "source": [
    "# Lecture 7: Mapping and nested data frames"
   ]
  },
  {
   "cell_type": "markdown",
   "metadata": {
    "slideshow": {
     "slide_type": "slide"
    }
   },
   "source": [
    "### Lecture learning objectives:\n",
    "\n",
    "By then end of this lecture & worksheet 7, students should be able to:\n",
    "\n",
    "* Write and use anonymous functions in R in isolation and in combination the functional {purrr} `map`\n",
    "* (Optional) Understand the general ideas of the `map*`, `map2*` and `pmap*` variant functions in the {purrr} package and the six types of output options (list, double, integer, logical, character and data frame).\n",
    "* Create and modify nested data frames using {dplyr} `group_by` + {tidyr} `nest` and {purrr} `map*` functions\n",
    "* Create unnested data frames using {tidyr} `unnest` \n",
    "* Describe situations where nested data frames are useful "
   ]
  },
  {
   "cell_type": "code",
   "execution_count": 1,
   "metadata": {},
   "outputs": [
    {
     "ename": "ERROR",
     "evalue": "Error in library(infer): there is no package called ‘infer’\n",
     "output_type": "error",
     "traceback": [
      "Error in library(infer): there is no package called ‘infer’\nTraceback:\n",
      "1. library(infer)"
     ]
    }
   ],
   "source": [
    "library(gapminder)\n",
    "library(infer)\n",
    "library(tidyverse)\n",
    "options(repr.matrix.max.rows = 10)"
   ]
  },
  {
   "cell_type": "markdown",
   "metadata": {
    "slideshow": {
     "slide_type": "slide"
    }
   },
   "source": [
    "## More functional style programming in R with `purrr`\n",
    "\n",
    "\n",
    "![](https://ih1.redbubble.net/image.329884292.2339/sticker,375x360-bg,ffffff.u1.png)\n",
    "\n",
    "https://purrr.tidyverse.org/"
   ]
  },
  {
   "cell_type": "markdown",
   "metadata": {
    "slideshow": {
     "slide_type": "slide"
    }
   },
   "source": [
    "### Passing arguments to functions you are mapping\n",
    "\n",
    "- What if you need to pass arguments to the functions you are mapping, in some cases you can take advantage of `...` (e.g., `na.rm = TRUE`) but if things get more complex than that, anonymous functions are your friends. \n",
    "\n",
    "- For example, imagine mapping `str_replace` to all the columns of a very wide and nested data frame to replace all instances of `\"Cdn\"` with `\"Canadian\"` to fix a data entry error that occurs in several columns in a data set that occur in a nested list column. Here we need to provide the arguments `pattern` and `replacement` in addition to the data we are operating on.\n",
    "\n",
    "- This is probably the only time I use anonymous functions regularly."
   ]
  },
  {
   "cell_type": "markdown",
   "metadata": {
    "slideshow": {
     "slide_type": "notes"
    }
   },
   "source": [
    "#### Anonymous functions in R\n",
    "\n",
    "General format: `function(x) body_of_function`\n",
    " \n",
    " To use one in the global environment, outside of another function call, you do the following:"
   ]
  },
  {
   "cell_type": "code",
   "execution_count": null,
   "metadata": {
    "slideshow": {
     "slide_type": "notes"
    }
   },
   "outputs": [],
   "source": [
    "(function(x) x + 1)(1)"
   ]
  },
  {
   "cell_type": "markdown",
   "metadata": {
    "slideshow": {
     "slide_type": "fragment"
    }
   },
   "source": [
    "Above the function takes in x as an argument and adds one to it. The function definition is surrounded by round brackets, as is the value being passed to the anonymous function."
   ]
  },
  {
   "cell_type": "markdown",
   "metadata": {
    "slideshow": {
     "slide_type": "slide"
    }
   },
   "source": [
    "#### Back to anonymous function calls within {purrr} `map_*`\n",
    "\n",
    "Long form:\n",
    "\n",
    "```\n",
    "map_*(data, function(arg) function_being_called(arg, other_arg))\n",
    "```\n"
   ]
  },
  {
   "cell_type": "markdown",
   "metadata": {
    "slideshow": {
     "slide_type": "fragment"
    }
   },
   "source": [
    "Short form:\n",
    "\n",
    "```\n",
    "map_*(data, ~ function_being_called(., other_arg))\n",
    "```"
   ]
  },
  {
   "cell_type": "markdown",
   "metadata": {
    "slideshow": {
     "slide_type": "fragment"
    }
   },
   "source": [
    "In the shortcut we replace `function(arg)` with a `~` and replace the `arg` in the function call with a `.`"
   ]
  },
  {
   "cell_type": "markdown",
   "metadata": {
    "slideshow": {
     "slide_type": "slide"
    }
   },
   "source": [
    "#### Example:\n",
    "\n",
    "Map `str_replace` to all the columns of a very wide data frame to replace all instances of `\"Cdn\"` with `\"Canadian\"` to fix a data entry error that occurs in several columns in a data set. "
   ]
  },
  {
   "cell_type": "code",
   "execution_count": null,
   "metadata": {},
   "outputs": [],
   "source": [
    "data_entry <- tibble(id = c(\"25323\", \"45234\", \"23471\"),\n",
    "                    birth_citizenship = c(\"Canadian\", \"American\", \"Cdn\"),\n",
    "                    current_citizenship = c(\"Canadian\", \"Vietnamese\", \"Cdn\"))\n",
    "data_entry"
   ]
  },
  {
   "cell_type": "markdown",
   "metadata": {},
   "source": [
    "Using verbose anonymous function syntax:"
   ]
  },
  {
   "cell_type": "code",
   "execution_count": null,
   "metadata": {},
   "outputs": [],
   "source": [
    "map_df(data_entry, function(vect) str_replace(vect, pattern = \"Cdn\", replacement = \"Canadian\"))"
   ]
  },
  {
   "cell_type": "markdown",
   "metadata": {},
   "source": [
    "Using shorthand anonymous function syntax:"
   ]
  },
  {
   "cell_type": "code",
   "execution_count": null,
   "metadata": {},
   "outputs": [],
   "source": [
    "map_df(data_entry, ~str_replace(., pattern = \"Cdn\", replacement = \"Canadian\"))"
   ]
  },
  {
   "cell_type": "markdown",
   "metadata": {},
   "source": [
    "Acknowledgement: here you do not need to use an anonymous function, you can take advantage of `...` but we will see more complicated cases later in the lecture and in the lab. Complicated cases arise when the `...` comes before positional arguments (e.g., `paste` and `paste0` functions) and when you are working with nested data frames."
   ]
  },
  {
   "cell_type": "code",
   "execution_count": null,
   "metadata": {},
   "outputs": [],
   "source": [
    "map_df(data_entry, str_replace, pattern = \"Cdn\", replacement = \"Canadian\")"
   ]
  },
  {
   "cell_type": "markdown",
   "metadata": {
    "slideshow": {
     "slide_type": "slide"
    }
   },
   "source": [
    "## Mapping with > 1 data objects (Optional)\n",
    "\n",
    "What if the function you want to map takes in > 1 data objects?"
   ]
  },
  {
   "cell_type": "markdown",
   "metadata": {
    "slideshow": {
     "slide_type": "fragment"
    }
   },
   "source": [
    "`map2*` and `pmap*` are your friends here!"
   ]
  },
  {
   "cell_type": "markdown",
   "metadata": {
    "slideshow": {
     "slide_type": "slide"
    }
   },
   "source": [
    "#### `purrr::map2*`\n",
    "\n",
    "```\n",
    "map2*(.x, .y, .f, ...)\n",
    "```\n",
    "\n",
    "Above reads as: `for` every element of `.x` and `.y` apply `.f` "
   ]
  },
  {
   "cell_type": "markdown",
   "metadata": {
    "slideshow": {
     "slide_type": "fragment"
    }
   },
   "source": [
    "Or picture as..."
   ]
  },
  {
   "cell_type": "markdown",
   "metadata": {
    "slideshow": {
     "slide_type": "slide"
    }
   },
   "source": [
    "<img src=\"img/minis_map2_data.png\" width=700>\n",
    "\n",
    "*Source: [purrr workshop](https://speakerdeck.com/jennybc/purrr-workshop) by Jenny Bryan*"
   ]
  },
  {
   "cell_type": "markdown",
   "metadata": {
    "slideshow": {
     "slide_type": "slide"
    }
   },
   "source": [
    "<img src=\"img/minis_map2.png\" width=700>\n",
    "\n",
    "*Source: [purrr workshop](https://speakerdeck.com/jennybc/purrr-workshop) by Jenny Bryan*"
   ]
  },
  {
   "cell_type": "markdown",
   "metadata": {
    "slideshow": {
     "slide_type": "slide"
    }
   },
   "source": [
    "#### `purrr::map2_df` example:\n",
    "\n",
    "\n",
    "For example, say you want to calculate a weighted means (using `weighted.mean`) for columns of a data frame where you had another data frame containing those weights.\n",
    "\n",
    "Let's make some data:"
   ]
  },
  {
   "cell_type": "code",
   "execution_count": null,
   "metadata": {},
   "outputs": [],
   "source": [
    "data <- tibble(frequency = runif(10),\n",
    "             loudness = runif(10),\n",
    "               power = runif(10),\n",
    "              rating = rpois(10, 5) + 1,\n",
    "                year = rpois(10, 5) + 1999)\n",
    "data[1, 1] <- NA\n",
    "data"
   ]
  },
  {
   "cell_type": "code",
   "execution_count": null,
   "metadata": {
    "slideshow": {
     "slide_type": "fragment"
    }
   },
   "outputs": [],
   "source": [
    "library(dplyr, quietly = TRUE)\n",
    "data <- tibble(x1 = runif(10),\n",
    "               x2 = runif(10),\n",
    "               x3 = runif(10))\n",
    "data[1, 1] <- NA\n",
    "weights <- tibble(x1 = rpois(10, 5) + 1,\n",
    "                 x2 = rpois(10, 5) + 1,\n",
    "                 x3 = rpois(10, 5) + 1,)\n",
    "\n",
    "data\n",
    "weights"
   ]
  },
  {
   "cell_type": "markdown",
   "metadata": {
    "slideshow": {
     "slide_type": "slide"
    }
   },
   "source": [
    "### `purrr::map2_df` example:\n",
    "\n",
    "Let's use `map2_df` to calculate the weighted mean using these two data frames."
   ]
  },
  {
   "cell_type": "code",
   "execution_count": null,
   "metadata": {
    "slideshow": {
     "slide_type": "fragment"
    }
   },
   "outputs": [],
   "source": [
    "?weighted.mean"
   ]
  },
  {
   "cell_type": "markdown",
   "metadata": {},
   "source": [
    "Now that we know how to use `weighted.mean`, let's map it! (and use `na.rm = TRUE` to deal with NA's)"
   ]
  },
  {
   "cell_type": "code",
   "execution_count": null,
   "metadata": {
    "slideshow": {
     "slide_type": "fragment"
    }
   },
   "outputs": [],
   "source": [
    "map2_df(data, weights, weighted.mean, na.rm = TRUE)"
   ]
  },
  {
   "cell_type": "markdown",
   "metadata": {
    "slideshow": {
     "slide_type": "fragment"
    }
   },
   "source": [
    "Not too bad eh! "
   ]
  },
  {
   "cell_type": "markdown",
   "metadata": {
    "slideshow": {
     "slide_type": "slide"
    }
   },
   "source": [
    "#### `purrr::map2*`\n",
    "\n",
    "Also, if `y` has less elements than `x`, it recycles `y`:\n",
    "\n",
    "<img src=\"https://d33wubrfki0l68.cloudfront.net/55032525ec77409e381dcd200a47e1787e65b964/dcaef/diagrams/functionals/map2-recycle.png\" width=400>"
   ]
  },
  {
   "cell_type": "markdown",
   "metadata": {
    "slideshow": {
     "slide_type": "fragment"
    }
   },
   "source": [
    "This is most useful when y has only one element."
   ]
  },
  {
   "cell_type": "markdown",
   "metadata": {
    "slideshow": {
     "slide_type": "slide"
    }
   },
   "source": [
    "#### `purrr::pmap*`\n",
    "\n",
    "```\n",
    "pmap*(list(.x1, .x2, ... .xn), .f, ...)\n",
    "```\n",
    "\n",
    "Above reads as: `for` every element of in the **list** (that contains `.x1, .x2, ... .xn`) apply `.f` "
   ]
  },
  {
   "cell_type": "markdown",
   "metadata": {
    "slideshow": {
     "slide_type": "fragment"
    }
   },
   "source": [
    "But what happens when you have > 2 arguments?"
   ]
  },
  {
   "cell_type": "markdown",
   "metadata": {
    "slideshow": {
     "slide_type": "slide"
    }
   },
   "source": [
    "## Mapping more than two arguments (Optional)\n",
    "\n",
    "Without an anonymous function, works as so:"
   ]
  },
  {
   "cell_type": "code",
   "execution_count": null,
   "metadata": {
    "slideshow": {
     "slide_type": "fragment"
    }
   },
   "outputs": [],
   "source": [
    "f1 <- function(x, y, z) {\n",
    "    x + y + z\n",
    "}\n",
    "\n",
    "pmap_dbl(list(c(1, 1), c(1, 2), c(2, 2)), f1)"
   ]
  },
  {
   "cell_type": "markdown",
   "metadata": {
    "slideshow": {
     "slide_type": "slide"
    }
   },
   "source": [
    "If you want to use an anonymous function, then use `..1`, `..2`, `..3`, and so on to specify where the mapped objets go in your function:"
   ]
  },
  {
   "cell_type": "code",
   "execution_count": null,
   "metadata": {
    "slideshow": {
     "slide_type": "fragment"
    }
   },
   "outputs": [],
   "source": [
    "f2 <- function(x, y, z, a = 0) {\n",
    "    x + y + z + a\n",
    "}\n",
    "\n",
    "pmap_dbl(list(c(1, 1), c(1, 2), c(2, 2)), ~ f2(..1, ..2, ..3, a = -1))"
   ]
  },
  {
   "cell_type": "markdown",
   "metadata": {
    "slideshow": {
     "slide_type": "fragment"
    }
   },
   "source": [
    "We only used two inputs to our function here, but we can use any number with `pmap`, we just need to add them to our list!"
   ]
  },
  {
   "cell_type": "markdown",
   "metadata": {
    "slideshow": {
     "slide_type": "slide"
    }
   },
   "source": [
    "### Want to iterate row-wise, instead of column-wise?\n",
    "\n",
    "Here you can use `purrr::pmap` on a single data frame!\n",
    "\n",
    "This: ```purrr::pmap(df, .f)```\n",
    "\n",
    "reads as: `for` every tuple in `.l` (*i.e.*, each row of `df`) apply `.f`"
   ]
  },
  {
   "cell_type": "markdown",
   "metadata": {
    "slideshow": {
     "slide_type": "fragment"
    }
   },
   "source": [
    "The key point is that `pmap()` iterates over tuples = the collection of `i`-th elements of `k` lists. A data frame row is an interesting special case."
   ]
  },
  {
   "cell_type": "markdown",
   "metadata": {
    "slideshow": {
     "slide_type": "slide"
    }
   },
   "source": [
    "### Here's an example of row-wise iteration \n",
    "\n",
    "Here we calculate the sum for each row in the `mtcars` data frame:"
   ]
  },
  {
   "cell_type": "code",
   "execution_count": null,
   "metadata": {
    "slideshow": {
     "slide_type": "fragment"
    }
   },
   "outputs": [],
   "source": [
    "pmap(mtcars, sum)"
   ]
  },
  {
   "cell_type": "markdown",
   "metadata": {
    "slideshow": {
     "slide_type": "slide"
    }
   },
   "source": [
    "### Mapping over groups of rows\n",
    "\n",
    "There are two strategies, we have already learned about the first:\n",
    "- `dplyr::group_by` + `dplyr::summarize`\n",
    "- `dplyr::group_by` + `tidyr::nest`"
   ]
  },
  {
   "cell_type": "markdown",
   "metadata": {},
   "source": [
    "## Nested data frames\n",
    "\n",
    "In future stastistics classes, we will use nested data frames for working with models and estimates. For example, in DSCI 552 we will use them for calculating confidence intervals. Here is some sample code below to calculcate confidence intervals for the mean life expectency for each each country in the `gapminder` data set:"
   ]
  },
  {
   "cell_type": "code",
   "execution_count": null,
   "metadata": {
    "scrolled": true
   },
   "outputs": [],
   "source": [
    "gap_lifeExp_ci <- function(df, statistic) {\n",
    "  df %>% \n",
    "        specify(response = lifeExp) %>% \n",
    "        generate(reps = 1000, type = \"bootstrap\")  %>% \n",
    "        calculate(stat = statistic)  %>% \n",
    "        get_ci()\n",
    "}\n",
    "\n",
    "by_country <- gapminder %>%\n",
    "    group_by(continent, country) %>%\n",
    "    nest() %>% \n",
    "    mutate(mean_life_exp = map_dbl(data, ~mean(.$lifeExp)), \n",
    "    life_exp_ci = map(data, ~gap_lifeExp_ci(., \"mean\")))\n",
    "print(by_country)"
   ]
  },
  {
   "cell_type": "markdown",
   "metadata": {},
   "source": [
    "This is called a nested data frame. A data frame which contains other data frames. This data structure is extremely useful when fitting many models and allows you to keep the data, the model meta data, and the model and its results all associated together as a single row in a data frame.\n",
    "\n",
    "Let's unpack this data structure a bit more and learn how to create, manipulate them."
   ]
  },
  {
   "cell_type": "markdown",
   "metadata": {},
   "source": [
    "### List-columns\n",
    "\n",
    "To create a nested data frame we start with a **grouped** data frame, and “nest” it:"
   ]
  },
  {
   "cell_type": "code",
   "execution_count": null,
   "metadata": {},
   "outputs": [],
   "source": [
    "# create a nested data frame\n",
    "by_country <- gapminder %>% \n",
    "    group_by(continent, country) %>% \n",
    "    nest()\n",
    "print(by_country)"
   ]
  },
  {
   "cell_type": "markdown",
   "metadata": {},
   "source": [
    "(I’m cheating a little by grouping on both continent and country. Given country, continent is fixed, so this doesn’t add any more groups, but it’s an easy way to carry an extra variable along for the ride.)"
   ]
  },
  {
   "cell_type": "markdown",
   "metadata": {},
   "source": [
    "What is the `data` column here? "
   ]
  },
  {
   "cell_type": "code",
   "execution_count": null,
   "metadata": {},
   "outputs": [],
   "source": [
    "class(by_country$data)"
   ]
  },
  {
   "cell_type": "markdown",
   "metadata": {},
   "source": [
    "The `data` column is actually a list of data frames (or tibbles, to be precise). This seems like a crazy idea: we have a data frame with a column that is a list of other data frames! \n",
    "\n",
    "Let's look at what the first element of the `data` list column looks like:"
   ]
  },
  {
   "cell_type": "code",
   "execution_count": null,
   "metadata": {},
   "outputs": [],
   "source": [
    "# look at first element of the data list column\n",
    "by_country$data[[1]]"
   ]
  },
  {
   "cell_type": "markdown",
   "metadata": {},
   "source": [
    "Note the difference between a standard grouped data frame and a nested data frame: in a grouped data frame, each row is an observation; in a nested data frame, each row is a group. Another way to think about a nested dataset is we now have a meta-observation: a row that represents the complete time course for a country, rather than a single point in time."
   ]
  },
  {
   "cell_type": "markdown",
   "metadata": {},
   "source": [
    "#### List-columns in data frames versus tibbles\n",
    "\n",
    "List columns are possible in base R data frames, but making them isn't easy and you have to jump through some hoops.\n",
    "\n",
    "If we try to make a data frame with a single list column, `data.frame` treats the list as a list of columns...\n",
    "\n"
   ]
  },
  {
   "cell_type": "code",
   "execution_count": null,
   "metadata": {},
   "outputs": [],
   "source": [
    "# try to make a list column in a data frame\n",
    "data.frame(x = list(c(1, 2, 3), c(3, 4, 5)))"
   ]
  },
  {
   "cell_type": "markdown",
   "metadata": {},
   "source": [
    "To make the work, we need to use the `I` function (which changes the class of an object to indicate that it should be treated ‘as is’):"
   ]
  },
  {
   "cell_type": "code",
   "execution_count": null,
   "metadata": {},
   "outputs": [],
   "source": [
    "# try to make a list column in a data frame by using I\n",
    "data.frame(x = I(list(c(1, 2, 3), c(3, 4, 5))))"
   ]
  },
  {
   "cell_type": "markdown",
   "metadata": {},
   "source": [
    "Tibble alleviates this problem by being lazier (`tibble` doesn’t modify its inputs) and by providing a better print method:"
   ]
  },
  {
   "cell_type": "code",
   "execution_count": null,
   "metadata": {},
   "outputs": [],
   "source": [
    "# try to make a list column in a tibble\n",
    "tibble(x = list(c(1, 2, 3), c(3, 4, 5)))"
   ]
  },
  {
   "cell_type": "markdown",
   "metadata": {},
   "source": [
    "### List column workflow:\n",
    "\n",
    "1. Create a list column using a function such as `nest` (other possibilities are `summarise` + `list`, or `mutate` + a `map_*` function, as described in [Creating list-columns](https://r4ds.had.co.nz/many-models.html#creating-list-columns))\n",
    "\n",
    "2. Create other intermediate list-columns by transforming existing list columns with `map`, `map2` or `pmap`\n",
    "\n",
    "3. Simplify the list-column back down to a data frame or atomic vector, often by `unnest`, `mutate` + `map_*` functions that return atomic vectors as opposed to lists. "
   ]
  },
  {
   "cell_type": "markdown",
   "metadata": {},
   "source": [
    "We've talked about step 1, and what a list column is. Now let's explore how we can create other intermediate list-columns by transforming existing columns with `map`."
   ]
  },
  {
   "cell_type": "markdown",
   "metadata": {},
   "source": [
    "### Create other intermediate list-columns with `map`\n",
    "\n",
    "Remembering our example:"
   ]
  },
  {
   "cell_type": "code",
   "execution_count": null,
   "metadata": {},
   "outputs": [],
   "source": [
    "gap_lifeExp_ci <- function(df, statistic) {\n",
    "  df %>% \n",
    "        specify(response = lifeExp) %>% \n",
    "        generate(reps = 1000, type = \"bootstrap\")  %>% \n",
    "        calculate(stat = statistic)  %>% \n",
    "        get_ci()\n",
    "}\n",
    "\n",
    "# create a nested gapminder tibble\n",
    "by_country <- gapminder %>% \n",
    "    group_by(continent, country) %>% \n",
    "    nest() "
   ]
  },
  {
   "cell_type": "code",
   "execution_count": null,
   "metadata": {},
   "outputs": [],
   "source": [
    "print(by_country)"
   ]
  },
  {
   "cell_type": "markdown",
   "metadata": {},
   "source": [
    "We'd like to apply the mean function to get the mean life expectancy in a column:"
   ]
  },
  {
   "cell_type": "code",
   "execution_count": null,
   "metadata": {},
   "outputs": [],
   "source": [
    "by_country <- gapminder %>%\n",
    "    group_by(continent, country) %>%\n",
    "    nest() %>% \n",
    "    mutate(mean_life_exp = map_dbl(data, ~ mean(.$lifeExp)))  \n",
    "print(by_country)"
   ]
  },
  {
   "cell_type": "markdown",
   "metadata": {},
   "source": [
    "Now we'd like to apply the `gap_lifeExp_ci` function to each tibble in the `data` list column to obtain another list column containing the confidence interval tibbles. We can use `mutate` + `map` to do this:"
   ]
  },
  {
   "cell_type": "code",
   "execution_count": null,
   "metadata": {},
   "outputs": [],
   "source": [
    "gap_lifeExp_ci <- function(df, statistic) {\n",
    "  df %>% \n",
    "        specify(response = lifeExp) %>% \n",
    "        generate(reps = 1000, type = \"bootstrap\")  %>% \n",
    "        calculate(stat = statistic)  %>% \n",
    "        get_ci()\n",
    "}\n",
    "\n",
    "by_country <- gapminder %>%\n",
    "    group_by(continent, country) %>%\n",
    "    nest() %>% \n",
    "    mutate(mean_life_exp = map_dbl(data, ~mean(.$lifeExp)), \n",
    "    life_exp_ci = map(data, ~gap_lifeExp_ci(., \"mean\")))\n",
    "print(by_country)"
   ]
  },
  {
   "cell_type": "markdown",
   "metadata": {},
   "source": [
    "What does the new tibbles look like in the `life_exp_ci` column?"
   ]
  },
  {
   "cell_type": "code",
   "execution_count": null,
   "metadata": {},
   "outputs": [],
   "source": [
    "by_country$life_exp_ci[[1]]"
   ]
  },
  {
   "cell_type": "markdown",
   "metadata": {},
   "source": [
    "### Simplifying the list-column back down to a data frame or atomic vector\n",
    "\n",
    "After we create some other intermediate list-columns with `map`, we usually want to get some values back as regular atomic vector columns in our data frame, for visualization, further analysis, or reporting. \n",
    "\n",
    "We will first demonstrate how to do this using `unnest` in our example to covert the `life_exp_ci` list column to two columns, one for the lower bound of the confidence interval, and one for the upper bound of the confidence interval:"
   ]
  },
  {
   "cell_type": "code",
   "execution_count": null,
   "metadata": {},
   "outputs": [],
   "source": [
    "# unnest the ci column\n",
    "by_country %>% \n",
    "    unnest(life_exp_ci) %>% \n",
    "    print()"
   ]
  },
  {
   "cell_type": "markdown",
   "metadata": {},
   "source": [
    "### The whole shebang:\n",
    "\n",
    "1. Create a list column using a function such as `nest`\n",
    "\n",
    "2. Create other intermediate list-columns by transforming existing list columns with `map`\n",
    "\n",
    "3. Simplify the list-column back down to a data frame or atomic vector using `unnest` & `mutate` + `map_dbl`:"
   ]
  },
  {
   "cell_type": "code",
   "execution_count": null,
   "metadata": {},
   "outputs": [],
   "source": [
    "gap_lifeExp_ci <- function(df, statistic) {\n",
    "  df %>% \n",
    "        specify(response = lifeExp) %>% \n",
    "        generate(reps = 1000, type = \"bootstrap\")  %>% \n",
    "        calculate(stat = statistic)  %>% \n",
    "        get_ci()\n",
    "}\n",
    "\n",
    "by_country <- gapminder %>%\n",
    "    group_by(continent, country) %>%\n",
    "    nest() %>% \n",
    "    mutate(mean_life_exp = map_dbl(data, ~mean(.$lifeExp)), \n",
    "    life_exp_ci = map(data, ~gap_lifeExp_ci(., \"mean\")))\n",
    "print(by_country)"
   ]
  },
  {
   "cell_type": "markdown",
   "metadata": {},
   "source": [
    "## What did we learn:\n",
    "\n",
    "- how to write anonymous functions\n",
    "- how to use {purrr} `map_*` with anonymous functions to add extra arguments\n",
    "- what are nested data frames\n",
    "- how to use {tidyr}'s `nest` & `unnest` and {purrr} `map_*` functions to work with data frames to nest, modify and unnest data frames"
   ]
  },
  {
   "cell_type": "markdown",
   "metadata": {
    "slideshow": {
     "slide_type": "slide"
    }
   },
   "source": [
    "### Attribution\n",
    "\n",
    "- [Advanced R](https://adv-r.hadley.nz/) by Hadley Wickham\n",
    "- [Jenny Bryan's `purrr` tutorial](https://jennybc.github.io/purrr-tutorial/index.html)"
   ]
  }
 ],
 "metadata": {
  "celltoolbar": "Slideshow",
  "kernelspec": {
   "display_name": "R",
   "language": "R",
   "name": "ir"
  },
  "language_info": {
   "codemirror_mode": "r",
   "file_extension": ".r",
   "mimetype": "text/x-r-source",
   "name": "R",
   "pygments_lexer": "r",
   "version": "4.1.1"
  }
 },
 "nbformat": 4,
 "nbformat_minor": 4
}
